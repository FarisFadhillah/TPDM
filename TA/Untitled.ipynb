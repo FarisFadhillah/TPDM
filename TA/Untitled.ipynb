{
 "cells": [
  {
   "cell_type": "code",
   "execution_count": 2,
   "id": "89f0bfe0",
   "metadata": {},
   "outputs": [],
   "source": [
    "#library Classification\n",
    "import pandas as pd\n",
    "import string\n",
    "import numpy as np\n",
    "import nltk"
   ]
  },
  {
   "cell_type": "code",
   "execution_count": 3,
   "id": "8c79efa6",
   "metadata": {},
   "outputs": [],
   "source": [
    "#Mesin Learning Naive Bayes\n",
    "from sklearn.naive_bayes import MultinomialNB\n",
    "from sklearn import model_selection\n",
    "from sklearn.feature_extraction.text import CountVectorizer\n",
    "from sklearn.feature_extraction.text import TfidfTransformer\n",
    "from sklearn.model_selection import train_test_split\n",
    "from sklearn.utils.multiclass import unique_labels\n",
    "from sklearn.preprocessing import LabelBinarizer, OrdinalEncoder, OneHotEncoder\n",
    "#SVM\n",
    "from sklearn.svm import SVC"
   ]
  },
  {
   "cell_type": "code",
   "execution_count": 4,
   "id": "ffebd651",
   "metadata": {},
   "outputs": [],
   "source": [
    "#visualisasi hasil\n",
    "from sklearn.metrics import classification_report, accuracy_score, confusion_matrix\n",
    "import seaborn as sns\n",
    "import matplotlib.pyplot as plt"
   ]
  },
  {
   "cell_type": "code",
   "execution_count": 5,
   "id": "7f0c588c",
   "metadata": {},
   "outputs": [
    {
     "name": "stdout",
     "output_type": "stream",
     "text": [
      "             No Transaksi Sub Total Total Pokok Laba Kotor Laba Jual  \\\n",
      "0     148597/KSR/UTM/0522   Rp5.000     Rp4.083      Rp917     Rp917   \n",
      "1     148598/KSR/UTM/0522  Rp63.000    Rp57.260    Rp5.740   Rp5.740   \n",
      "2     148599/KSR/UTM/0522  Rp24.000    Rp19.203    Rp4.797   Rp4.797   \n",
      "3     148600/KSR/UTM/0522   Rp4.000     Rp3.225      Rp775     Rp775   \n",
      "4     148601/KSR/UTM/0522  Rp69.000    Rp65.410    Rp3.590   Rp3.590   \n",
      "...                   ...       ...         ...        ...       ...   \n",
      "2472  151098/KSR/UTM/0522   Rp3.500     Rp3.022      Rp478     Rp478   \n",
      "2473  151099/KSR/UTM/0522  Rp26.000    Rp22.900    Rp3.100   Rp3.100   \n",
      "2474  151100/KSR/UTM/0522   Rp3.500     Rp2.162    Rp1.338   Rp1.338   \n",
      "2475  151101/KSR/UTM/0522  Rp58.000    Rp56.600    Rp1.400   Rp1.400   \n",
      "2476  151102/KSR/UTM/0522   Rp6.500     Rp5.083    Rp1.417   Rp1.417   \n",
      "\n",
      "      Perubahan Laba  \n",
      "0                  0  \n",
      "1                  1  \n",
      "2                  0  \n",
      "3                  0  \n",
      "4                  1  \n",
      "...              ...  \n",
      "2472               0  \n",
      "2473               1  \n",
      "2474               0  \n",
      "2475               1  \n",
      "2476               1  \n",
      "\n",
      "[2477 rows x 6 columns]\n"
     ]
    }
   ],
   "source": [
    "#memanggil dataset\n",
    "filecsv='Laba.csv'\n",
    "teks=pd.read_csv(filecsv, header=0, delimiter=';', encoding='utf-8')\n",
    "df=pd.DataFrame(teks)\n",
    "print(df)"
   ]
  },
  {
   "cell_type": "code",
   "execution_count": 6,
   "id": "1ed96ba3",
   "metadata": {},
   "outputs": [
    {
     "name": "stdout",
     "output_type": "stream",
     "text": [
      "     Sub Total Total Pokok Laba Kotor\n",
      "0      Rp5.000     Rp4.083      Rp917\n",
      "1     Rp63.000    Rp57.260    Rp5.740\n",
      "2     Rp24.000    Rp19.203    Rp4.797\n",
      "3      Rp4.000     Rp3.225      Rp775\n",
      "4     Rp69.000    Rp65.410    Rp3.590\n",
      "...        ...         ...        ...\n",
      "2472   Rp3.500     Rp3.022      Rp478\n",
      "2473  Rp26.000    Rp22.900    Rp3.100\n",
      "2474   Rp3.500     Rp2.162    Rp1.338\n",
      "2475  Rp58.000    Rp56.600    Rp1.400\n",
      "2476   Rp6.500     Rp5.083    Rp1.417\n",
      "\n",
      "[2477 rows x 3 columns]\n"
     ]
    }
   ],
   "source": [
    "#input parameter untuk prediksi class\n",
    "xTarget=df.drop(['No Transaksi', 'Perubahan Laba', 'Laba Jual'], axis=1)\n",
    "print(xTarget)"
   ]
  },
  {
   "cell_type": "code",
   "execution_count": 7,
   "id": "38f73c7c",
   "metadata": {},
   "outputs": [
    {
     "name": "stdout",
     "output_type": "stream",
     "text": [
      "0       0\n",
      "1       1\n",
      "2       0\n",
      "3       0\n",
      "4       1\n",
      "       ..\n",
      "2472    0\n",
      "2473    1\n",
      "2474    0\n",
      "2475    1\n",
      "2476    1\n",
      "Name: Perubahan Laba, Length: 2477, dtype: int64\n"
     ]
    }
   ],
   "source": [
    "#target classification dari acc/rejected loan\n",
    "yTarget=df['Perubahan Laba']\n",
    "print(yTarget)"
   ]
  },
  {
   "cell_type": "code",
   "execution_count": 8,
   "id": "60ef3ec8",
   "metadata": {},
   "outputs": [
    {
     "data": {
      "image/png": "[encoded data removed]",
      "text/plain": [
       "<Figure size 720x432 with 1 Axes>"
      ]
     },
     "metadata": {
      "needs_background": "light"
     },
     "output_type": "display_data"
    }
   ],
   "source": [
    "ax=df['Perubahan Laba'].value_counts().plot(kind='bar', figsize=(10,6), fontsize=13, color='#087E8B')\n",
    "ax.set_title('Credit card fraud (0=turun, 1=naik)', size=20, pad=30)\n",
    "ax.set_ylabel('Number of transactions', fontsize=14)\n",
    "\n",
    "for i in ax.patches:\n",
    "    ax.text(i.get_x() + 0.19, i.get_height()+10, str(round(i.get_height(), 2)), fontsize=15)"
   ]
  },
  {
   "cell_type": "code",
   "execution_count": 9,
   "id": "260a0a69",
   "metadata": {},
   "outputs": [
    {
     "name": "stdout",
     "output_type": "stream",
     "text": [
      "[[0]\n",
      " [1]\n",
      " [0]\n",
      " ...\n",
      " [0]\n",
      " [1]\n",
      " [1]]\n"
     ]
    }
   ],
   "source": [
    "#merubah (encode) nilai yTarget menjadi dua class yaitu 0 dan 1\n",
    "encoder = LabelBinarizer()\n",
    "Y = encoder.fit_transform(yTarget)\n",
    "print(Y)"
   ]
  },
  {
   "cell_type": "code",
   "execution_count": 10,
   "id": "3821fe44",
   "metadata": {},
   "outputs": [
    {
     "name": "stdout",
     "output_type": "stream",
     "text": [
      "  (0, 430)\t1.0\n",
      "  (0, 1728)\t1.0\n",
      "  (0, 3885)\t1.0\n",
      "  (1, 502)\t1.0\n",
      "  (1, 2053)\t1.0\n",
      "  (1, 3568)\t1.0\n",
      "  (2, 238)\t1.0\n",
      "  (2, 1077)\t1.0\n",
      "  (2, 3454)\t1.0\n",
      "  (3, 366)\t1.0\n",
      "  (3, 1470)\t1.0\n",
      "  (3, 3773)\t1.0\n",
      "  (4, 519)\t1.0\n",
      "  (4, 2137)\t1.0\n",
      "  (4, 3256)\t1.0\n",
      "  (5, 435)\t1.0\n",
      "  (5, 1752)\t1.0\n",
      "  (5, 3886)\t1.0\n",
      "  (6, 123)\t1.0\n",
      "  (6, 852)\t1.0\n",
      "  (6, 3049)\t1.0\n",
      "  (7, 392)\t1.0\n",
      "  (7, 1798)\t1.0\n",
      "  (7, 3009)\t1.0\n",
      "  (8, 53)\t1.0\n",
      "  :\t:\n",
      "  (2468, 2514)\t1.0\n",
      "  (2469, 288)\t1.0\n",
      "  (2469, 1347)\t1.0\n",
      "  (2469, 3153)\t1.0\n",
      "  (2470, 180)\t1.0\n",
      "  (2470, 669)\t1.0\n",
      "  (2470, 3327)\t1.0\n",
      "  (2471, 75)\t1.0\n",
      "  (2471, 767)\t1.0\n",
      "  (2471, 2574)\t1.0\n",
      "  (2472, 297)\t1.0\n",
      "  (2472, 1456)\t1.0\n",
      "  (2472, 3491)\t1.0\n",
      "  (2473, 259)\t1.0\n",
      "  (2473, 1244)\t1.0\n",
      "  (2473, 3171)\t1.0\n",
      "  (2474, 297)\t1.0\n",
      "  (2474, 1115)\t1.0\n",
      "  (2474, 2524)\t1.0\n",
      "  (2475, 479)\t1.0\n",
      "  (2475, 2043)\t1.0\n",
      "  (2475, 2548)\t1.0\n",
      "  (2476, 492)\t1.0\n",
      "  (2476, 1929)\t1.0\n",
      "  (2476, 2555)\t1.0\n",
      "(2477, 3912)\n"
     ]
    }
   ],
   "source": [
    "#merubah (encode) nilai atribut menjadi index nilai\n",
    "tfidf_transformer=OneHotEncoder()\n",
    "X=tfidf_transformer.fit_transform(xTarget)\n",
    "print(X)\n",
    "print(X.shape)"
   ]
  },
  {
   "cell_type": "code",
   "execution_count": 11,
   "id": "e7f0364b",
   "metadata": {},
   "outputs": [
    {
     "name": "stdout",
     "output_type": "stream",
     "text": [
      "(1733, 3912)\n",
      "(1733, 1)\n",
      "(744, 3912)\n",
      "(744, 1)\n"
     ]
    }
   ],
   "source": [
    "#membuat data training dan testing dari dataset dengan data test = 30%\n",
    "#dari jumlah instance\n",
    "X_train, X_test, y_train, y_test = train_test_split(X, Y, test_size = 0.3, random_state=7)\n",
    "print(X_train.shape)\n",
    "print(y_train.shape)\n",
    "print(X_test.shape)\n",
    "print(y_test.shape)"
   ]
  },
  {
   "cell_type": "code",
   "execution_count": 12,
   "id": "b0bc1e52",
   "metadata": {},
   "outputs": [
    {
     "name": "stdout",
     "output_type": "stream",
     "text": [
      "SVC(decision_function_shape='ovo', kernel='linear')\n"
     ]
    }
   ],
   "source": [
    "#melakukan pembuatan model training\n",
    "SuppVM = SVC(gamma='scale', decision_function_shape='ovo', kernel='linear').fit(X_train,np.ravel(y_train,order='C'))\n",
    "\n",
    "print(SuppVM)"
   ]
  },
  {
   "cell_type": "code",
   "execution_count": 15,
   "id": "01fbe996",
   "metadata": {},
   "outputs": [
    {
     "name": "stdout",
     "output_type": "stream",
     "text": [
      "(744, 1)\n",
      "  Classifieer                                         prediction  accuracy\n",
      "0         SVM  SVC(decision_function_shape='ovo', kernel='lin...  0.705645\n"
     ]
    }
   ],
   "source": [
    "#prediksi terhadap nilai training yang telah dibuat\n",
    "models = [\n",
    "    SuppVM,\n",
    "]\n",
    "dlist = [\n",
    "    'SVM',\n",
    "]\n",
    "\n",
    "i=0\n",
    "print(y_test.shape)\n",
    "entries = []\n",
    "for model in models:\n",
    "    prediction = model.predict(X_test)\n",
    "    accuracies = accuracy_score(y_test, prediction)\n",
    "    nameS = dlist[i]\n",
    "    entries.append((nameS, model, accuracies))\n",
    "    i=i+1\n",
    "    \n",
    "cv_df = pd.DataFrame(entries, columns=['Classifieer', 'prediction', 'accuracy'])\n",
    "cv_df.to_csv('AkurasiLaba.csv')\n",
    "print(cv_df)"
   ]
  },
  {
   "cell_type": "code",
   "execution_count": 16,
   "id": "0ff64b76",
   "metadata": {},
   "outputs": [
    {
     "name": "stdout",
     "output_type": "stream",
     "text": [
      "[[246 115]\n",
      " [104 279]]\n",
      "accuracy\n",
      "0.705645    0.705645\n",
      "Name: accuracy, dtype: float64\n"
     ]
    }
   ],
   "source": [
    "cv_df = pd.DataFrame(entries, columns=['Classifieer', 'prediction', 'accuracy'])\n",
    "#cv_df.to_csv('AkurasiLaba.csv')\n",
    "#print(cv_df)\n",
    "\n",
    "#Menampilkan confusion matrix\n",
    "print(confusion_matrix(y_test, prediction))\n",
    "\n",
    "print(cv_df.groupby('accuracy').accuracy.mean())"
   ]
  },
  {
   "cell_type": "code",
   "execution_count": 17,
   "id": "f004ce79",
   "metadata": {},
   "outputs": [],
   "source": [
    "def plot_confusion_matrix(y_true, y_pred, classes,\n",
    "                          normalize=False,\n",
    "                          title=None,\n",
    "                          cmap=plt.cm.Blues):\n",
    "    \"\"\"\n",
    "    This function prints and plots the confusion matrix.\n",
    "    Normalization can be applied by setting `normalize=True`.\n",
    "    \"\"\"\n",
    "    if not title:\n",
    "        if normalize:\n",
    "            title = 'Normalized confusion matrix'\n",
    "        else:\n",
    "            title = 'Confusion matrix, without normalization'\n",
    "\n",
    "    # Compute confusion matrix\n",
    "    cm = confusion_matrix(y_true, y_pred)\n",
    "    # Only use the labels that appear in the data\n",
    "    classes = classes[unique_labels(y_true, y_pred)]\n",
    "    if normalize:\n",
    "        cm = cm.astype('float') / cm.sum(axis=1)[:, np.newaxis]\n",
    "        print(\"Normalized confusion matrix\")\n",
    "    else:\n",
    "        print('Confusion matrix, without normalization')\n",
    "\n",
    "    print(cm)\n",
    "\n",
    "    fig, ax = plt.subplots()\n",
    "    im = ax.imshow(cm, interpolation='nearest', cmap=cmap)\n",
    "    ax.figure.colorbar(im, ax=ax)\n",
    "    # We want to show all ticks...\n",
    "    ax.set(xticks=np.arange(cm.shape[1]),\n",
    "           yticks=np.arange(cm.shape[0]),\n",
    "           # ... and label them with the respective list entries\n",
    "           xticklabels=classes, yticklabels=classes,\n",
    "           title=title,\n",
    "           ylabel='True label',\n",
    "           xlabel='Predicted label')\n",
    "\n",
    "    # Rotate the tick labels and set their alignment.\n",
    "    plt.setp(ax.get_xticklabels(), rotation=45, ha=\"right\",\n",
    "             rotation_mode=\"anchor\")\n",
    "\n",
    "    # Loop over data dimensions and create text annotations.\n",
    "    fmt = '.2f' if normalize else 'd'\n",
    "    thresh = cm.max() / 2.\n",
    "    for i in range(cm.shape[0]):\n",
    "        for j in range(cm.shape[1]):\n",
    "            ax.text(j, i, format(cm[i, j], fmt),\n",
    "                    ha=\"center\", va=\"center\",\n",
    "                    color=\"white\" if cm[i, j] > thresh else \"black\")\n",
    "    fig.tight_layout()\n",
    "    return ax"
   ]
  },
  {
   "cell_type": "code",
   "execution_count": 18,
   "id": "009a6092",
   "metadata": {},
   "outputs": [
    {
     "name": "stdout",
     "output_type": "stream",
     "text": [
      "Confusion matrix, without normalization\n",
      "[[246 115]\n",
      " [104 279]]\n",
      "Normalized confusion matrix\n",
      "[[0.68 0.32]\n",
      " [0.27 0.73]]\n"
     ]
    },
    {
     "data": {
      "image/png": "[encoded data removed]",
      "text/plain": [
       "<Figure size 432x288 with 2 Axes>"
      ]
     },
     "metadata": {
      "needs_background": "light"
     },
     "output_type": "display_data"
    },
    {
     "data": {
      "image/png": "[encoded data removed]",
      "text/plain": [
       "<Figure size 432x288 with 2 Axes>"
      ]
     },
     "metadata": {
      "needs_background": "light"
     },
     "output_type": "display_data"
    }
   ],
   "source": [
    "class_names = yTarget\n",
    "np.set_printoptions(precision=2)\n",
    "\n",
    "# Plot non-normalized confusion matrix\n",
    "plot_confusion_matrix(y_test, prediction, classes=class_names,\n",
    "                      title='Confusion matrix, without normalization')\n",
    "\n",
    "# Plot normalized confusion matrix\n",
    "plot_confusion_matrix(y_test, prediction, classes=class_names, normalize=True,\n",
    "                      title='Normalized confusion matrix')\n",
    "\n",
    "plt.show()"
   ]
  },
  {
   "cell_type": "code",
   "execution_count": 20,
   "id": "693c0813",
   "metadata": {},
   "outputs": [
    {
     "ename": "NameError",
     "evalue": "name 'y' is not defined",
     "output_type": "error",
     "traceback": [
      "\u001b[1;31m---------------------------------------------------------------------------\u001b[0m",
      "\u001b[1;31mNameError\u001b[0m                                 Traceback (most recent call last)",
      "Input \u001b[1;32mIn [20]\u001b[0m, in \u001b[0;36m<cell line: 4>\u001b[1;34m()\u001b[0m\n\u001b[0;32m      2\u001b[0m regressor \u001b[38;5;241m=\u001b[39m SVC()\n\u001b[0;32m      3\u001b[0m \u001b[38;5;66;03m#Fitting model with training data\u001b[39;00m\n\u001b[1;32m----> 4\u001b[0m regressor\u001b[38;5;241m.\u001b[39mfit(X, \u001b[43my\u001b[49m)\n\u001b[0;32m      6\u001b[0m pd\u001b[38;5;241m.\u001b[39mto_pickle(regressor,\u001b[38;5;124m'\u001b[39m\u001b[38;5;124mmodel.pickle\u001b[39m\u001b[38;5;124m'\u001b[39m)\n",
      "\u001b[1;31mNameError\u001b[0m: name 'y' is not defined"
     ]
    }
   ],
   "source": [
    "import pickle\n",
    "regressor = SVC()\n",
    "#Fitting model with training data\n",
    "regressor.fit(X, y)\n",
    "\n",
    "pd.to_pickle(regressor,'model.pickle')"
   ]
  },
  {
   "cell_type": "code",
   "execution_count": null,
   "id": "a37d3833",
   "metadata": {},
   "outputs": [],
   "source": []
  }
 ],
 "metadata": {
  "kernelspec": {
   "display_name": "Python 3 (ipykernel)",
   "language": "python",
   "name": "python3"
  },
  "language_info": {
   "codemirror_mode": {
    "name": "ipython",
    "version": 3
   },
   "file_extension": ".py",
   "mimetype": "text/x-python",
   "name": "python",
   "nbconvert_exporter": "python",
   "pygments_lexer": "ipython3",
   "version": "3.9.12"
  }
 },
 "nbformat": 4,
 "nbformat_minor": 5
}
